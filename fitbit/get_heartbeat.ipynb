{
 "cells": [
  {
   "cell_type": "code",
   "execution_count": 11,
   "metadata": {
    "collapsed": false
   },
   "outputs": [
    {
     "data": {
      "text/plain": [
       "[{'time': '00:00:00', 'value': 58},\n",
       " {'time': '00:00:10', 'value': 64},\n",
       " {'time': '00:00:20', 'value': 62},\n",
       " {'time': '00:00:30', 'value': 58},\n",
       " {'time': '00:00:35', 'value': 58},\n",
       " {'time': '00:00:40', 'value': 59},\n",
       " {'time': '00:00:50', 'value': 63},\n",
       " {'time': '00:01:00', 'value': 57},\n",
       " {'time': '00:01:10', 'value': 54},\n",
       " {'time': '00:01:25', 'value': 54}]"
      ]
     },
     "execution_count": 11,
     "metadata": {},
     "output_type": "execute_result"
    }
   ],
   "source": [
    "#参照　https://qiita.com/fujit33/items/2af7c4afdb4e07601def\n",
    "\n",
    "import fitbit\n",
    "import pandas as pd\n",
    "import seaborn as sns\n",
    "import matplotlib.pyplot as plt\n",
    "import numpy as np\n",
    "%matplotlib inline\n",
    "\n",
    "# メモしたID等\n",
    "#CLIENT_ID =  \"XXXXXXXXXXXXXXXXXXXXXXX\"\n",
    "#CLIENT_SECRET  = \"XXXXXXXXXXXXXXXXXXXXXXX\"\n",
    "#ACCESS_TOKEN =  \"XXXXXXXXXXXXXXXXXXXXXXX\"\n",
    "#REFRESH_TOKEN =  \"XXXXXXXXXXXXXXXXXXXXXXX\"\n",
    "#FITBIT_BASE_URL = \"https://api.fitbit.com/\"\n",
    "\n",
    "# 取得したい日付\n",
    "DATE = \"2018-08-18\"\n",
    "\n",
    "# ID等の設定\n",
    "authd_client = fitbit.Fitbit(CLIENT_ID, CLIENT_SECRET\n",
    "                             ,access_token=ACCESS_TOKEN, refresh_token=REFRESH_TOKEN)\n",
    "# 心拍数を取得（1秒単位）\n",
    "data_sec = authd_client.intraday_time_series('activities/heart', DATE, detail_level='1sec') #'1sec', '1min', or '15min'\n",
    "heart_sec = data_sec[\"activities-heart-intraday\"][\"dataset\"]\n",
    "heart_sec[:10]"
   ]
  }
 ],
 "metadata": {
  "anaconda-cloud": {},
  "kernelspec": {
   "display_name": "Python [default]",
   "language": "python",
   "name": "python3"
  },
  "language_info": {
   "codemirror_mode": {
    "name": "ipython",
    "version": 3
   },
   "file_extension": ".py",
   "mimetype": "text/x-python",
   "name": "python",
   "nbconvert_exporter": "python",
   "pygments_lexer": "ipython3",
   "version": "3.5.2"
  }
 },
 "nbformat": 4,
 "nbformat_minor": 1
}
