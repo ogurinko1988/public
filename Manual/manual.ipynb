{
 "cells": [
  {
   "cell_type": "markdown",
   "metadata": {},
   "source": [
    "githubの使い方  \n",
    "1.WEB上でpublicのフォルダを作成する  \n",
    "2.github desktopをインストール  \n",
    "3.同期してみるとpublicのフォルダができる  \n",
    "4.フォルダの中に文書を入れてコミットする  \n",
    "5.Fetch originすると同期される  \n",
    "本来の目的はバージョン管理だが、やり方はまだわかりません。\n",
    "\n",
    "jupyter notebook の使い方  \n",
    "ブロック単位で入力していく。ブロックは主にCodeとMarkdownがある。  \n",
    "Markdownはコメント入力  \n",
    "Codeはプログラム入力  \n",
    "改行は半角スペース２つを行末につける  \n",
    ".ipynb形式で保存する  \n",
    "\n"
   ]
  },
  {
   "cell_type": "code",
   "execution_count": null,
   "metadata": {
    "collapsed": true
   },
   "outputs": [],
   "source": []
  }
 ],
 "metadata": {
  "anaconda-cloud": {},
  "kernelspec": {
   "display_name": "Python [default]",
   "language": "python",
   "name": "python3"
  },
  "language_info": {
   "codemirror_mode": {
    "name": "ipython",
    "version": 3
   },
   "file_extension": ".py",
   "mimetype": "text/x-python",
   "name": "python",
   "nbconvert_exporter": "python",
   "pygments_lexer": "ipython3",
   "version": "3.5.2"
  }
 },
 "nbformat": 4,
 "nbformat_minor": 1
}
